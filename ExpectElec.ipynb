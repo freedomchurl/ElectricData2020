{
  "nbformat": 4,
  "nbformat_minor": 0,
  "metadata": {
    "colab": {
      "name": "ExpectElec.ipynb",
      "provenance": [],
      "collapsed_sections": [],
      "mount_file_id": "1E6Z0HXAQiDjN3NuFGgrAqByjpiUYdxx0",
      "authorship_tag": "ABX9TyMMTGa0ngFWbw/79vHTtn5G",
      "include_colab_link": true
    },
    "kernelspec": {
      "name": "python3",
      "display_name": "Python 3"
    }
  },
  "cells": [
    {
      "cell_type": "markdown",
      "metadata": {
        "id": "view-in-github",
        "colab_type": "text"
      },
      "source": [
        "<a href=\"https://colab.research.google.com/github/freedomchurl/ElectricData2020/blob/LSTM/ExpectElec.ipynb\" target=\"_parent\"><img src=\"https://colab.research.google.com/assets/colab-badge.svg\" alt=\"Open In Colab\"/></a>"
      ]
    },
    {
      "cell_type": "code",
      "metadata": {
        "id": "cLEHwa9iXerW",
        "colab_type": "code",
        "colab": {
          "base_uri": "https://localhost:8080/",
          "height": 744
        },
        "outputId": "365a9cc1-2175-494e-ed69-0811caefbe37"
      },
      "source": [
        "from keras.models import Model\n",
        "from keras.layers import Input, Dense, LSTM, Bidirectional\n",
        "from keras import backend as K\n",
        "import numpy as np\n",
        "import matplotlib.pyplot as plt\n",
        "import csv\n",
        "import pandas as pd\n",
        "from sklearn.preprocessing import MinMaxScaler\n",
        "from tensorflow.keras.models import Sequential\n",
        "from tensorflow.keras.layers import Dense, Embedding\n",
        "\n",
        "\n",
        "def generateX(a, n):\n",
        "     x_train = []\n",
        "     y_train = []\n",
        "     for i in range(len(a)):\n",
        "         x = a[i:(i + n)]\n",
        "         if (i + n) < len(a):\n",
        "             x_train.append(x)\n",
        "             y_train.append(a[i + n])\n",
        "         else:\n",
        "             break\n",
        "     return np.array(x_train), np.array(y_train)\n",
        "\n",
        "# load data from csv file\n",
        "data = np.loadtxt(\"/content/drive/My Drive/lstmdata_2.csv\", delimiter=\",\")\n",
        "\n",
        "# 1D array to 2D array for minmaxScaler\n",
        "t_data = data.transpose()\n",
        "test_data = t_data.reshape(10000,1)\n",
        "\n",
        "# data를 0 - 1 사이로\n",
        "minMaxScaler = MinMaxScaler()\n",
        "print(minMaxScaler.fit(test_data))\n",
        "uni_data = minMaxScaler.transform(test_data)\n",
        "\n",
        "x, y = generateX(uni_data, 10)\n",
        "x = x.reshape(-1,10,1)\n",
        "y = y.reshape(-1,1)\n",
        "\n",
        "# 학습용 데이터와 테스트 데이터\n",
        "x_train = x[:8000, :, :]\n",
        "y_train = y[:8000:, :]\n",
        "x_test = x[8000:, :, :]\n",
        "y_test = y[8000:, :]\n",
        "\n",
        "\n",
        "\n",
        "# 2층-양방항 구조의 LSTM 모델을 생성한다.\n",
        "K.clear_session()     # 모델 생성전에 tensorflow의 graph 영역을 clear한다.\n",
        "xInput = Input(batch_shape=(None, x_train.shape[1], x_train.shape[2]))\n",
        "xLstm_1 = LSTM(10, return_sequences = True)(xInput)\n",
        "xLstm_2 = Bidirectional(LSTM(10))(xLstm_1)\n",
        "xOutput = Dense(1)(xLstm_2)\n",
        "\n",
        "model = Model(xInput, xOutput)\n",
        "model.compile(loss='mse', optimizer='adam')\n",
        "\n",
        "# 학습 500 20\n",
        "history = model.fit(x_train, y_train, epochs=10, batch_size=20,verbose=1, validation_data=(x_test, y_test))\n",
        "\n",
        "# 예측\n",
        "y_hat = model.predict(x_test, batch_size=1)\n",
        "\n",
        "\n",
        "# 예측 결과 시각화\n",
        "a_axis = np.arange(0, len(y_train))\n",
        "b_axis = np.arange(len(y_train), len(y_train) + len(y_hat))\n",
        "\n",
        "plt.figure(figsize=(10,6))\n",
        "plt.plot(a_axis, y_train.reshape(8000,), 'o-')\n",
        "plt.plot(b_axis, y_hat.reshape(1990,), 'o-', color='red', label='Predicted')\n",
        "plt.plot(b_axis, y_test.reshape(1990,), 'o-', color='green', alpha=0.2, label='Actual')\n",
        "plt.legend()\n",
        "plt.show()"
      ],
      "execution_count": 1,
      "outputs": [
        {
          "output_type": "stream",
          "text": [
            "MinMaxScaler(copy=True, feature_range=(0, 1))\n",
            "Epoch 1/10\n",
            "400/400 [==============================] - 4s 9ms/step - loss: 0.0219 - val_loss: 1.3090e-04\n",
            "Epoch 2/10\n",
            "400/400 [==============================] - 2s 6ms/step - loss: 1.7029e-04 - val_loss: 1.1937e-04\n",
            "Epoch 3/10\n",
            "400/400 [==============================] - 3s 6ms/step - loss: 1.3189e-04 - val_loss: 9.9325e-05\n",
            "Epoch 4/10\n",
            "400/400 [==============================] - 3s 7ms/step - loss: 1.0039e-04 - val_loss: 8.8100e-05\n",
            "Epoch 5/10\n",
            "400/400 [==============================] - 3s 7ms/step - loss: 7.8102e-05 - val_loss: 5.2785e-05\n",
            "Epoch 6/10\n",
            "400/400 [==============================] - 2s 6ms/step - loss: 5.8379e-05 - val_loss: 3.9641e-05\n",
            "Epoch 7/10\n",
            "400/400 [==============================] - 3s 6ms/step - loss: 4.3751e-05 - val_loss: 4.9184e-05\n",
            "Epoch 8/10\n",
            "400/400 [==============================] - 2s 6ms/step - loss: 3.6208e-05 - val_loss: 2.6110e-05\n",
            "Epoch 9/10\n",
            "400/400 [==============================] - 2s 6ms/step - loss: 3.3483e-05 - val_loss: 2.7189e-05\n",
            "Epoch 10/10\n",
            "400/400 [==============================] - 3s 6ms/step - loss: 3.1412e-05 - val_loss: 2.7147e-05\n"
          ],
          "name": "stdout"
        },
        {
          "output_type": "display_data",
          "data": {
            "image/png": "[encoded data removed]",
            "text/plain": [
              "<Figure size 720x432 with 1 Axes>"
            ]
          },
          "metadata": {
            "tags": [],
            "needs_background": "light"
          }
        }
      ]
    },
    {
      "cell_type": "code",
      "metadata": {
        "id": "uyRT66_lxhj1",
        "colab_type": "code",
        "colab": {
          "base_uri": "https://localhost:8080/",
          "height": 34
        },
        "outputId": "f8e63725-36a8-4ad4-baaf-e005a4450457"
      },
      "source": [
        "# 모델 평가하기\n",
        "acc = (y_hat - y_test) / y_test\n",
        "acc2 = np.abs(acc) # 오차\n",
        "accuracy = np.average(1-acc2)\n",
        "print(accuracy)\n",
        "\n",
        " "
      ],
      "execution_count": 7,
      "outputs": [
        {
          "output_type": "stream",
          "text": [
            "0.9920981639769578\n"
          ],
          "name": "stdout"
        }
      ]
    }
  ]
}